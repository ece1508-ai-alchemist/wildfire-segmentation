{
 "cells": [
  {
   "cell_type": "code",
   "execution_count": null,
   "id": "9c01d463b6b4765b",
   "metadata": {
    "collapsed": false
   },
   "outputs": [],
   "source": [
    "from src.train import run"
   ]
  },
  {
   "cell_type": "code",
   "outputs": [],
   "source": [
    "run.execute()"
   ],
   "metadata": {
    "collapsed": false
   },
   "id": "a95fc7fe56ea4c9",
   "execution_count": null
  }
 ],
 "metadata": {
  "kernelspec": {
   "display_name": "Python 3",
   "language": "python",
   "name": "python3"
  },
  "language_info": {
   "codemirror_mode": {
    "name": "ipython",
    "version": 2
   },
   "file_extension": ".py",
   "mimetype": "text/x-python",
   "name": "python",
   "nbconvert_exporter": "python",
   "pygments_lexer": "ipython2",
   "version": "2.7.6"
  }
 },
 "nbformat": 4,
 "nbformat_minor": 5
}
